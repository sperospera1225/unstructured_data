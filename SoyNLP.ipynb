{
  "nbformat": 4,
  "nbformat_minor": 0,
  "metadata": {
    "colab": {
      "provenance": []
    },
    "kernelspec": {
      "name": "python3",
      "display_name": "Python 3"
    },
    "language_info": {
      "name": "python"
    }
  },
  "cells": [
    {
      "cell_type": "code",
      "execution_count": 24,
      "metadata": {
        "colab": {
          "base_uri": "https://localhost:8080/"
        },
        "id": "NAYW24-cIrNA",
        "outputId": "104523c6-cacc-4822-a37d-87e862765db1"
      },
      "outputs": [
        {
          "output_type": "stream",
          "name": "stdout",
          "text": [
            "Requirement already satisfied: konlpy in /usr/local/lib/python3.10/dist-packages (0.6.0)\n",
            "Requirement already satisfied: JPype1>=0.7.0 in /usr/local/lib/python3.10/dist-packages (from konlpy) (1.4.1)\n",
            "Requirement already satisfied: lxml>=4.1.0 in /usr/local/lib/python3.10/dist-packages (from konlpy) (4.9.3)\n",
            "Requirement already satisfied: numpy>=1.6 in /usr/local/lib/python3.10/dist-packages (from konlpy) (1.23.5)\n",
            "Requirement already satisfied: packaging in /usr/local/lib/python3.10/dist-packages (from JPype1>=0.7.0->konlpy) (23.2)\n"
          ]
        }
      ],
      "source": [
        "!pip install konlpy"
      ]
    },
    {
      "cell_type": "code",
      "source": [
        "!pip install soynlp==0.0.4"
      ],
      "metadata": {
        "colab": {
          "base_uri": "https://localhost:8080/"
        },
        "id": "udyqk8wyvw27",
        "outputId": "c109186f-ea77-4ee5-8e0a-981fea6fb199"
      },
      "execution_count": 25,
      "outputs": [
        {
          "output_type": "stream",
          "name": "stdout",
          "text": [
            "Requirement already satisfied: soynlp==0.0.4 in /usr/local/lib/python3.10/dist-packages (0.0.4)\n",
            "Requirement already satisfied: numpy>=1.12.1 in /usr/local/lib/python3.10/dist-packages (from soynlp==0.0.4) (1.23.5)\n",
            "Requirement already satisfied: psutil>=5.0.1 in /usr/local/lib/python3.10/dist-packages (from soynlp==0.0.4) (5.9.5)\n"
          ]
        }
      ]
    },
    {
      "cell_type": "code",
      "source": [
        "sentence = '빅데이터 시대가 도래함에 따라 방대한 데이터로부터 새로운 가치를 창출하는 데이터 사이언티스트가 4차 산업혁명 시대의 최고 유망 직종으로 급부상하고 있습니다.'"
      ],
      "metadata": {
        "id": "9IE34VzMJtrz"
      },
      "execution_count": 26,
      "outputs": []
    },
    {
      "cell_type": "code",
      "source": [
        "from konlpy.tag import *\n",
        "\n",
        "# Kkm, Komoran, Okt 패키지를 사용한 POS tagging\n",
        "kkma = Kkma()\n",
        "komoran = Komoran()\n",
        "okt = Okt()"
      ],
      "metadata": {
        "id": "hTlFzbY7JGiz"
      },
      "execution_count": 27,
      "outputs": []
    },
    {
      "cell_type": "code",
      "source": [
        "kkm_result = kkma.pos(sentence)\n",
        "komoran_result = komoran.pos(sentence)\n",
        "okt_result = okt.pos(sentence)"
      ],
      "metadata": {
        "id": "vkezH7DHJaQj"
      },
      "execution_count": 28,
      "outputs": []
    },
    {
      "cell_type": "code",
      "source": [
        "print(\"Kkm 결과\")\n",
        "print(kkm_result)"
      ],
      "metadata": {
        "colab": {
          "base_uri": "https://localhost:8080/"
        },
        "id": "FNRl8KAuwr-f",
        "outputId": "095f0674-4f6c-49e3-d75e-4811dc368529"
      },
      "execution_count": 29,
      "outputs": [
        {
          "output_type": "stream",
          "name": "stdout",
          "text": [
            "Kkm 결과\n",
            "[('빅', 'NNG'), ('데이터', 'NNG'), ('시대', 'NNG'), ('가', 'JKS'), ('도래', 'NNG'), ('하', 'XSV'), ('ㅁ', 'ETN'), ('에', 'JKM'), ('따르', 'VV'), ('아', 'ECS'), ('방대', 'XR'), ('하', 'XSA'), ('ㄴ', 'ETD'), ('데이터', 'NNG'), ('로', 'JKM'), ('부터', 'JX'), ('새', 'NNG'), ('롭', 'XSA'), ('ㄴ', 'ETD'), ('가치', 'NNG'), ('를', 'JKO'), ('창출', 'NNG'), ('하', 'XSV'), ('는', 'ETD'), ('데이터', 'NNG'), ('사이', 'NNG'), ('언', 'NNG'), ('티스트', 'UN'), ('가', 'JKS'), ('4', 'NR'), ('차', 'NNM'), ('산업', 'NNG'), ('혁명', 'NNG'), ('시대', 'NNG'), ('의', 'JKG'), ('최고', 'NNG'), ('유망', 'NNG'), ('직종', 'NNG'), ('으로', 'JKM'), ('급부상', 'NNG'), ('하', 'XSV'), ('고', 'ECE'), ('있', 'VXV'), ('습니다', 'EFN'), ('.', 'SF')]\n"
          ]
        }
      ]
    },
    {
      "cell_type": "code",
      "source": [
        "print(\"Komoran 결과\")\n",
        "print(komoran_result)"
      ],
      "metadata": {
        "colab": {
          "base_uri": "https://localhost:8080/"
        },
        "id": "X6V6Dwpjwu8S",
        "outputId": "0154a259-6886-4051-fa94-450e9de9743f"
      },
      "execution_count": 30,
      "outputs": [
        {
          "output_type": "stream",
          "name": "stdout",
          "text": [
            "Komoran 결과\n",
            "[('빅', 'NNG'), ('데이터', 'NNG'), ('시대', 'NNG'), ('가', 'JKS'), ('도래', 'NNG'), ('하', 'XSV'), ('ㅁ', 'ETN'), ('에', 'JKB'), ('따르', 'VV'), ('아', 'EC'), ('방대', 'XR'), ('하', 'XSA'), ('ㄴ', 'ETM'), ('데이터', 'NNG'), ('로부터', 'JKB'), ('새롭', 'VA'), ('ㄴ', 'ETM'), ('가치', 'NNG'), ('를', 'JKO'), ('창출', 'NNG'), ('하', 'XSV'), ('는', 'ETM'), ('데이터', 'NNG'), ('사이언티스트', 'NNG'), ('가', 'JKS'), ('4', 'SN'), ('차', 'NNB'), ('산업', 'NNG'), ('혁명', 'NNP'), ('시대', 'NNG'), ('의', 'JKG'), ('최고', 'NNG'), ('유망', 'NNP'), ('직종', 'NNP'), ('으로', 'JKB'), ('급부상', 'NNG'), ('하', 'XSV'), ('고', 'EC'), ('있', 'VX'), ('습니다', 'EF'), ('.', 'SF')]\n"
          ]
        }
      ]
    },
    {
      "cell_type": "code",
      "source": [
        "print(\"Okt 결과\")\n",
        "print(okt_result)"
      ],
      "metadata": {
        "colab": {
          "base_uri": "https://localhost:8080/"
        },
        "id": "4c7kFURXw4FQ",
        "outputId": "ecb869a9-7c34-4c7d-8e8c-d7df4d4f4775"
      },
      "execution_count": 31,
      "outputs": [
        {
          "output_type": "stream",
          "name": "stdout",
          "text": [
            "Okt 결과\n",
            "[('빅데이터', 'Noun'), ('시대', 'Noun'), ('가', 'Josa'), ('도래', 'Noun'), ('함', 'Noun'), ('에', 'Josa'), ('따라', 'Verb'), ('방대한', 'Adjective'), ('데이터', 'Noun'), ('로부터', 'Noun'), ('새로운', 'Adjective'), ('가치', 'Noun'), ('를', 'Josa'), ('창', 'Noun'), ('출하', 'Noun'), ('는', 'Josa'), ('데이터', 'Noun'), ('사이', 'Modifier'), ('언', 'Modifier'), ('티스', 'Noun'), ('트', 'Noun'), ('가', 'Josa'), ('4', 'Number'), ('차', 'Noun'), ('산업혁명', 'Noun'), ('시대', 'Noun'), ('의', 'Josa'), ('최고', 'Noun'), ('유망', 'Noun'), ('직종', 'Noun'), ('으로', 'Josa'), ('급부', 'Noun'), ('상', 'Suffix'), ('하고', 'Josa'), ('있습니다', 'Adjective'), ('.', 'Punctuation')]\n"
          ]
        }
      ]
    },
    {
      "cell_type": "code",
      "source": [
        "from soynlp.pos.tagset import tagset\n",
        "from pprint import pprint\n",
        "pprint(tagset) # tagger 에서 이용하는 단어의 품사 종류"
      ],
      "metadata": {
        "colab": {
          "base_uri": "https://localhost:8080/"
        },
        "id": "Ow0f9HR10Crx",
        "outputId": "d7137df6-0cd2-4e87-fce4-2d5cce9a13b9"
      },
      "execution_count": 32,
      "outputs": [
        {
          "output_type": "stream",
          "name": "stdout",
          "text": [
            "{'Adjective': '형용사',\n",
            " 'Adverb': '부사',\n",
            " 'Determiner': '관형사',\n",
            " 'Exclamation': '감탄사',\n",
            " 'Josa': '조사',\n",
            " 'Noun': '명사',\n",
            " 'Numeral': '수사',\n",
            " 'Pronoun': '대명사',\n",
            " 'Symbol': '기호',\n",
            " 'Verb': '동사'}\n"
          ]
        }
      ]
    },
    {
      "cell_type": "code",
      "source": [
        "# generator 는 사전 기반으로 작동하기 때문에 dictionary를 먼저 선언\n",
        "pos_dict = {\n",
        "    'Noun': {'빅데이터', '시대', '도래함', '데이터', '가치', '사이언티스트', '산업혁명', '직종', '차'},\n",
        "    'Josa': {'가', '에', '로부터', '를', '의', '으로'},\n",
        "    'Verb': {'따라', '창출하는', '급부상하고', '있습니다'},\n",
        "    'Adjective': {'방대한', '새로운', '최고'},\n",
        "    'Numeral': {'4'}\n",
        "}"
      ],
      "metadata": {
        "id": "oUyFZiSS0QWJ"
      },
      "execution_count": 33,
      "outputs": []
    },
    {
      "cell_type": "code",
      "source": [
        "from soynlp.postagger import Dictionary\n",
        "from soynlp.postagger import LRTemplateMatcher\n",
        "from soynlp.postagger import LREvaluator\n",
        "from soynlp.postagger import SimpleTagger\n",
        "from soynlp.postagger import UnknowLRPostprocessor\n",
        "\n",
        "dictionary = Dictionary(pos_dict) # 사전 정의된 Dictionary 를 생성\n",
        "generator = LRTemplateMatcher(dictionary) # 주어진 문장에서 단어열 후보를 생성하는 generator\n",
        "evaluator = LREvaluator() # 여러 개의 단어열 후보 중에서 가장 적절한 후보를 선택하는 evaluator\n",
        "postprocessor = UnknowLRPostprocessor() # 처리하지 못한 단어들에 대한 후처리 기능을 담당할 postprocessor\n",
        "tagger = SimpleTagger(generator, evaluator, postprocessor) # Tagger 선언\n",
        "\n",
        "soynlp_result = tagger.tag(sentence) # pos tagging 수행"
      ],
      "metadata": {
        "id": "whPlcWWtxAL3"
      },
      "execution_count": 34,
      "outputs": []
    },
    {
      "cell_type": "code",
      "source": [
        "print(\"SoyNLP 결과\")\n",
        "print(soynlp_result)"
      ],
      "metadata": {
        "colab": {
          "base_uri": "https://localhost:8080/"
        },
        "id": "yFtOqMo02J0D",
        "outputId": "97b0a5eb-6f06-4155-eb3f-2b710bfacc0c"
      },
      "execution_count": 35,
      "outputs": [
        {
          "output_type": "stream",
          "name": "stdout",
          "text": [
            "SoyNLP 결과\n",
            "[('빅데이터', 'Noun'), ('시대', 'Noun'), ('가', 'Josa'), ('도래함', 'Noun'), ('에', 'Josa'), ('따라', 'Verb'), ('방대한', 'Adjective'), ('데이터', 'Noun'), ('로부터', 'Josa'), ('새로운', 'Adjective'), ('가치', 'Noun'), ('를', 'Josa'), ('창출하는', 'Verb'), ('데이터', 'Noun'), ('사이언티스트', 'Noun'), ('가', 'Josa'), ('산업혁명', 'Noun'), ('시대', 'Noun'), ('의', 'Josa'), ('최고', 'Adjective'), ('직종', 'Noun'), ('으로', 'Josa'), ('급부상하고', 'Verb'), ('있습니다', 'Verb'), ('.', None)]\n"
          ]
        }
      ]
    },
    {
      "cell_type": "code",
      "source": [],
      "metadata": {
        "id": "eqAAvC2v27Z3"
      },
      "execution_count": 35,
      "outputs": []
    }
  ]
}